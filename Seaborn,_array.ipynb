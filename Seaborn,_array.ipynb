{
  "nbformat": 4,
  "nbformat_minor": 0,
  "metadata": {
    "colab": {
      "name": "Seaborn, array.ipynb",
      "provenance": [],
      "collapsed_sections": [],
      "authorship_tag": "ABX9TyNQqZ3UEAV/8XeqEA3u5enY",
      "include_colab_link": true
    },
    "kernelspec": {
      "name": "python3",
      "display_name": "Python 3"
    },
    "language_info": {
      "name": "python"
    }
  },
  "cells": [
    {
      "cell_type": "markdown",
      "metadata": {
        "id": "view-in-github",
        "colab_type": "text"
      },
      "source": [
        "<a href=\"https://colab.research.google.com/github/yousee0/D.Heart/blob/master/Seaborn%2C_array.ipynb\" target=\"_parent\"><img src=\"https://colab.research.google.com/assets/colab-badge.svg\" alt=\"Open In Colab\"/></a>"
      ]
    },
    {
      "cell_type": "markdown",
      "metadata": {
        "id": "7ORPccNDYbh7"
      },
      "source": [
        "**Numpy array 생성하기**"
      ]
    },
    {
      "cell_type": "code",
      "metadata": {
        "colab": {
          "base_uri": "https://localhost:8080/"
        },
        "id": "ek5F4IfVYFUO",
        "outputId": "022ae4a9-77d0-4262-ef60-7c46159c387a"
      },
      "source": [
        "import numpy as np\n",
        "data = np.random.randint(10, size=(10,10))\n",
        "print(data)"
      ],
      "execution_count": 2,
      "outputs": [
        {
          "output_type": "stream",
          "name": "stdout",
          "text": [
            "[[2 6 8 6 0 6 8 3 3 5]\n",
            " [9 9 4 1 1 3 8 8 6 9]\n",
            " [8 8 1 6 8 2 8 8 9 3]\n",
            " [7 4 1 9 7 6 0 7 9 2]\n",
            " [9 2 1 5 8 4 0 2 6 4]\n",
            " [7 7 4 7 8 1 2 0 4 5]\n",
            " [1 8 7 9 8 9 5 0 0 7]\n",
            " [8 8 0 5 9 0 2 3 0 3]\n",
            " [2 4 0 0 4 1 3 0 4 6]\n",
            " [5 8 8 8 9 8 3 1 7 6]]\n"
          ]
        }
      ]
    },
    {
      "cell_type": "markdown",
      "metadata": {
        "id": "eQ_MYvQcYk1N"
      },
      "source": [
        "**seaborn 라이브러리 사용하여 array 배열하기**"
      ]
    },
    {
      "cell_type": "markdown",
      "metadata": {
        "id": "9sGTGfhOYrJm"
      },
      "source": [
        ""
      ]
    }
  ]
}